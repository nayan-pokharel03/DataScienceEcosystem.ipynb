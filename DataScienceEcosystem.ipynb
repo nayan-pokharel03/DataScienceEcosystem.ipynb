{
 "cells": [
  {
   "cell_type": "markdown",
   "id": "40222663-065a-4698-9762-a3021253f4f6",
   "metadata": {},
   "source": [
    "# Data Science Tools and Ecosystem"
   ]
  },
  {
   "cell_type": "markdown",
   "id": "7d737370-031f-493a-9728-e183d4da99af",
   "metadata": {},
   "source": [
    "In this Jupyter Notebook, Data Science Tools and Ecosystem are summarized."
   ]
  },
  {
   "cell_type": "markdown",
   "id": "4f4a0511-2574-4d2b-98c2-c0fc8f16c79f",
   "metadata": {},
   "source": [
    "Some of the popular languages that Data Scientists use are:\n",
    "1. Python\n",
    "2. C++\n",
    "3. R\n",
    "4. SQL"
   ]
  },
  {
   "cell_type": "markdown",
   "id": "3333deb2-5d12-4508-b3f1-405a9fc94301",
   "metadata": {},
   "source": [
    "Some of the commonly used libraries used by Data Scientists include:\n",
    "1. Numphy\n",
    "2. Pandas\n",
    "3. Pytorch\n",
    "4. Tensorflow\n",
    "5. Apachee Spark\n",
    "6. Keras\n",
    "7. Scipy\n",
    "8. Ggplot"
   ]
  },
  {
   "cell_type": "markdown",
   "id": "7133c257-d80b-4b3e-9d29-29ef9521231f",
   "metadata": {},
   "source": [
    "|Data Science Tools|\n",
    "|------------------|\n",
    "|Jupyter Notebook|\n",
    "|Anaconda|\n",
    "|R Studio|\n",
    "|SAS|\n",
    "|Spyder|"
   ]
  },
  {
   "cell_type": "markdown",
   "id": "62575c14-c7a0-4626-9358-77f2f5d7d942",
   "metadata": {},
   "source": [
    "### Below are a few examples of evaluating arithmetic expressions in Python"
   ]
  },
  {
   "cell_type": "code",
   "execution_count": 3,
   "id": "77bb7bdd-9a68-4608-8e11-1500e43c1a93",
   "metadata": {},
   "outputs": [
    {
     "data": {
      "text/plain": [
       "17"
      ]
     },
     "execution_count": 3,
     "metadata": {},
     "output_type": "execute_result"
    }
   ],
   "source": [
    "#This a simple arithmetic expression to mutiply then add integers\n",
    "(3*4)+5"
   ]
  },
  {
   "cell_type": "code",
   "execution_count": 4,
   "id": "7d7e6a31-91d8-4eb4-b96e-c74d79c364ff",
   "metadata": {},
   "outputs": [
    {
     "data": {
      "text/plain": [
       "3.3333333333333335"
      ]
     },
     "execution_count": 4,
     "metadata": {},
     "output_type": "execute_result"
    }
   ],
   "source": [
    "# This will convert 200 minutes to hours by diving by 60\n",
    "(200/60)"
   ]
  },
  {
   "cell_type": "markdown",
   "id": "90abf09c-a7c4-4aa9-bd9d-1077d4fc4044",
   "metadata": {},
   "source": [
    "_Objectives:_\n",
    "1. Creating Markdown cell\n",
    "2. Listing popular languages for Data Science\n",
    "3. Listing popular Data Science Libraries                            \n",
    "4. To Provide comments in  cell\n",
    "5. Adding Different Heading styles in markdown cells.                            \n"
   ]
  },
  {
   "cell_type": "markdown",
   "id": "20e79bad-2820-4dd8-b360-6cc30ba05dcd",
   "metadata": {},
   "source": [
    "## Author\n",
    "Nayan Raj Pokharel"
   ]
  }
 ],
 "metadata": {
  "kernelspec": {
   "display_name": "Python 3 (ipykernel)",
   "language": "python",
   "name": "python3"
  },
  "language_info": {
   "codemirror_mode": {
    "name": "ipython",
    "version": 3
   },
   "file_extension": ".py",
   "mimetype": "text/x-python",
   "name": "python",
   "nbconvert_exporter": "python",
   "pygments_lexer": "ipython3",
   "version": "3.12.1"
  }
 },
 "nbformat": 4,
 "nbformat_minor": 5
}
